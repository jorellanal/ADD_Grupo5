{
 "cells": [
  {
   "cell_type": "markdown",
   "id": "dd2867b2",
   "metadata": {},
   "source": [
    " ![Logo](data:image/png;base64,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)    \n",
    "    \n",
    "\n",
    "    "
   ]
  },
  {
   "cell_type": "markdown",
   "id": "54204c8f",
   "metadata": {},
   "source": [
    "<blockquote style=\"background-color:#DFF2BF; color:#4F8A10; padding:10px;\">\n",
    "<b>Docente:</b> Dr. William Montes Quiroz<br>\n",
    "<b>Curso:</b> Taller programacion aplicada / python 2<br>\n",
    "<b>NRC:</b> Debe incluir su NRC<br>\n",
    "<b>Fecha:</b> Debe incluir la fecha de emisión de Solemne  <br>\n",
    "<b>Grupo:</b> Debe incluir su grupo y sus integrantes\n",
    "    \n",
    "</blockquote>"
   ]
  },
  {
   "cell_type": "markdown",
   "id": "0bb29448",
   "metadata": {},
   "source": [
    "# Evaluación:"
   ]
  },
  {
   "cell_type": "markdown",
   "id": "ab47775b",
   "metadata": {},
   "source": [
    "Como alumno de la `Universidad San Sebastian`, del curso Taller de programación aplicada/ python 2 debe completar las siguientes tareas.\n",
    "\n",
    "Para esta evaluacion, realizará una carpeta de ingenieria, donde lo principal es la entrega del `reporte de ingenieria`, recordar que un reporte de ingenieria es un pre-informe, donde si bien no se abordan con profundiad (o detalle) algunos itemes, este debe ser lo suficientemente **robusto**, como para que la empresa decida si continuar o no en el proyecto.\n",
    "Para ello este debe contener información presicia y verificable, debe usar lenguaje correcto y ser entregado a tiempo.\n",
    "\n",
    "\n",
    "---\n",
    "\n",
    "Entonces el trabajo debe ser escrito con la mayor Prolijidad posible, es decir, debe usar: negritas, enumeraciones, fotos, cajas de código y lo que necesite para facilitar la lectura de su trabajo final.\n",
    "\n",
    "* Existe un horario de consulta **protegido**, para avanzar en su trabajo, el que corresponde al horario de clases"
   ]
  },
  {
   "cell_type": "markdown",
   "id": "5a494703",
   "metadata": {},
   "source": [
    "## Entregables"
   ]
  },
  {
   "cell_type": "markdown",
   "id": "6322959b",
   "metadata": {},
   "source": [
    "Como en todos los trabajos de ingenieria, debe entregar una `carpeta de proyecto` la cual debe contener las siguientes carpetas:\n",
    "\n",
    "* Antecedentes    : En esta carpeta debe incluir archivos (words, pdfs, paguinas web) de donde uds obtienen información relevante, para realizar integramente su trabajo (similar a bibliografia, pero debe presentar con precision la fuente de información a utilizar)\n",
    "* Comunicaciones  : Debe incluir todas las reuniones realizadas con el cliente (en este caso su docente), es requisito tener a lo menos una reunion (kick off del proyecto), se debe incluir la cita (via teams), con el aceptado del cliente (formato foto), junto con un word con la/s minuta/s de la/s reuniones sostenidas\n",
    "* Reporte         : Debe inluir el archivo del reporte en formato jupyter y en pdf (o no modificable), es importante mencionar que es imperativo que sus codigos deben incluir celdas de texto explicando cada paso de sus desiciones\n"
   ]
  },
  {
   "cell_type": "markdown",
   "id": "df5ba192",
   "metadata": {},
   "source": [
    "## Rubrica"
   ]
  },
  {
   "cell_type": "markdown",
   "id": "b8d288a1",
   "metadata": {},
   "source": [
    "|Item| observación | puntaje|\n",
    "|----|-------|----|\n",
    "|Antecedentes| Carpeta debe incluir los archivos biblograficos del trabajo | 10 |\n",
    "|Comunicaciones| Carpeta con las comunicaciones externas (no integrantes del equipo), debe incluir pantallazos| 10 |\n",
    "| Reporte :| A continuación se mencionan los puntajes por etapa puntaje asociado a la sección : | ----|\n",
    "| + INICIO | Cargar librerias, BBDD y observaciones preliminares, sobre el tipo de datos a usar y los principales estadisticos generales | 10 |\n",
    "| + Formato | Es importante incluir texto/imagenes/referencias explicativo | 10|\n",
    "| + calculos| Deben ser orientados hacia sus resultado |15|\n",
    "| + Graficos| Deben estar en formato y explicar sus resultados (recordar heatmap) |15|\n",
    "| + conclusiones| Deben concluir, recordar referenciar secciones de su trabajo, si su conclusion no esta justificada entonces es solo un comentario| 25|\n",
    "| + Defensa de su trabajo| Deben responder correctamente la ultima ronda de preguntas del cliente| +5|\n"
   ]
  },
  {
   "cell_type": "markdown",
   "id": "49acb2d6",
   "metadata": {},
   "source": [
    "# Inicio : BBDD SII tipo A"
   ]
  },
  {
   "cell_type": "markdown",
   "id": "a124e87f",
   "metadata": {},
   "source": [
    "En el enlace del [S.I.I.](https://www.sii.cl/sobre_el_sii/estadisticas_de_empresas.html), encontrará las bases de datos públicas del servicio de impuestos internos de Chile. Por lo cual a su grupo se solicita acceder a este sitio y descargar la base de datos (o las BBDD), que permitan realizar su estudio."
   ]
  },
  {
   "cell_type": "markdown",
   "id": "cc9ff423",
   "metadata": {},
   "source": [
    "* Debe utilizar una o más BBDD del sitio mencionado, para responder lo siguiente:\n",
    "\n",
    "Objetivos:\n",
    "\n",
    "* A partir de los datos, deben determinar si existe una diferencia en el salario final de un trabajador dependiendo de: su genero, relación laboral y tramo de la empresa en cuestion.\n",
    "* ¿En que provincias (top 10) recomendaria trabajar, en caso de que un potencial cliente sea del genero `masculino`, tambien en su analisis debe incluir la relación laboral, desde el punto de vista ordinal y de renta declarada.\n",
    "* Determinar el top 10 de provincias, más exitosas en termino de ventas de empresas.\n",
    "* Generar la evolución temporal de las ventas anuales ¿Puede identificar que factores historicos impactan esta evolución?\n",
    "* Debe apoyar todas sus deduciones en graficos que ilustren sus hayasgos, es importante notar que todos los graficos deben contener titulo, nombre de ejes, unidades (si son requeridas) y deben tener un tamaño adecuado, para que el lector pueda interpretar de forma sencilla sus observaciones.\n"
   ]
  },
  {
   "cell_type": "markdown",
   "id": "a3f2c67c",
   "metadata": {},
   "source": [
    "# Preparar el ambiente de trabajo"
   ]
  },
  {
   "cell_type": "markdown",
   "id": "a7de3577",
   "metadata": {},
   "source": [
    "\n",
    "---\n",
    "\n",
    "## Librerias\n",
    "\n",
    "\n",
    "Debe cargar todas las librerías que estime conveniente para usar, si lo desea genere comentarios para explicar sus Código y/o genere celdas en Markdown, explicando lo que realiza.\n",
    "\n",
    "\n",
    "## Cargar las bases de datos\n",
    "\n",
    "Una vez descargada su base de datos (puede ser más de una) correspondiente, debe cargarla a su notebook\n",
    "\n",
    "---"
   ]
  },
  {
   "cell_type": "markdown",
   "id": "5723f597",
   "metadata": {},
   "source": [
    "### Hint 1:\n",
    "\n",
    "Como puede observar la extensión de las bases de datos (BBDD) del SII, corresponden a archivos excel *(xlsb)*, es posible que su jupyter/colab, necesite la instalación de complementos, para cargar dicha BBDD, para ello debe utilizar el siguiente comando:\n",
    "\n",
    "```python\n",
    "!pip install pyxlsb\n",
    "```\n",
    "El cual instala en su equipo la posibilidad de trabajar/cargar archivos excel, en su ultima versión."
   ]
  },
  {
   "cell_type": "code",
   "execution_count": null,
   "id": "55d69a04",
   "metadata": {},
   "outputs": [],
   "source": []
  },
  {
   "cell_type": "markdown",
   "id": "f9dcac5c",
   "metadata": {},
   "source": [
    "### Hint 2: \n",
    "Una vez cargada su BBDD ¿Observan algo extraño?, pueden utilizar el comando\n",
    "\n",
    "```python\n",
    "df.drop(index=['Aqui va su lista de indices'])\n",
    "```\n",
    "Para eliminar filas no deseadas\n",
    "\n",
    "¿Nota algo atipico? ¿como lo va a corregir?"
   ]
  },
  {
   "cell_type": "code",
   "execution_count": null,
   "id": "604ae267",
   "metadata": {},
   "outputs": [],
   "source": []
  },
  {
   "cell_type": "markdown",
   "id": "102fbb08",
   "metadata": {},
   "source": [
    "# Inicio trabajo exploratorio:\n",
    "\n",
    "Muy bien!, con la BBDD cargada, es hora de comenzar con el analisis exploratorio, para ello deben realizar las primeras aproximaciones a vuestra BBDD (`head, describe, info` y lo que uds estimen conveniente). En esta sección deben incluir:\n",
    "\n",
    "* Descripción de las variables, en bruto.\n",
    "* Información relevante que ha obtenido a partir de su aceramiento exploratorio.\n"
   ]
  },
  {
   "cell_type": "code",
   "execution_count": null,
   "id": "44d5d38e",
   "metadata": {},
   "outputs": [],
   "source": []
  },
  {
   "cell_type": "markdown",
   "id": "bb3dac24",
   "metadata": {},
   "source": [
    "# Preparación y Limpieza:\n",
    "\n",
    "Es hora de preparar nuestra BBDD para el trabajo:\n",
    "\n",
    " * Mantener solo las `columnas` y `filas` relevantes para su estudio (debe explicar en extenso, el por qué de sus desiciones.\n",
    " * Identificar duplicados y eliminarlos\n",
    " * Re-formatear `columnas` que estime necesarias\n",
    " * Cambiar nombres si lo considera necesario\n",
    " * Crear nuevas variables si lo considera necesario\n"
   ]
  },
  {
   "cell_type": "code",
   "execution_count": null,
   "id": "7d523288",
   "metadata": {},
   "outputs": [],
   "source": []
  },
  {
   "cell_type": "markdown",
   "id": "afb445b4",
   "metadata": {},
   "source": [
    "## Hint:\n",
    "\n",
    "**Ojo!!** Existe en los registros valores perdidos en su BBDD, el *SII*, los identifica como `'*'`, más en la realidad de los datos deberian representar un valor del tipo `NAN`, debe modificar estos datos, para poder trabajar de una forma efectiva con ellos."
   ]
  },
  {
   "cell_type": "code",
   "execution_count": null,
   "id": "46189fdb",
   "metadata": {},
   "outputs": [],
   "source": []
  },
  {
   "cell_type": "markdown",
   "id": "f4238f23",
   "metadata": {},
   "source": [
    "# Buscar relaciones o empezar confirmar y rechazar sus hipotesis:\n",
    "\n",
    "* Definición de ¿qué vamos a analizar?\n",
    "* Exploración particular de `atributos` (solo un atributo a la vez)\n",
    "* Generación de graficos (solo un atributo a la vez)"
   ]
  },
  {
   "cell_type": "code",
   "execution_count": null,
   "id": "766424fe",
   "metadata": {},
   "outputs": [],
   "source": []
  },
  {
   "cell_type": "markdown",
   "id": "ff2d14d6",
   "metadata": {},
   "source": [
    "## Hint : \n",
    "Ocacionalmente usar la libreria `seaborn`, simplifica la existencia del analista, por lo que se recomienda usar :\n",
    "* `map` para imprimir el mapa de correlaciones (recordar ejercicios de clases... vuelos  y NBA), donde usamos `sns.heatmap(df_corr, annot=True)`, recuerde que para usar este comando y desplegar el grafico debe previamente definir `df_corr`.\n"
   ]
  },
  {
   "cell_type": "code",
   "execution_count": null,
   "id": "943685bf",
   "metadata": {},
   "outputs": [],
   "source": []
  },
  {
   "cell_type": "markdown",
   "id": "092ea78e",
   "metadata": {},
   "source": [
    "# Busqueda de relaciones multivariables:\n",
    "\n",
    "* Revisar que pareja (o más) de atributos tienen una realación\n",
    "* Realizar graficos que estime convenientes"
   ]
  },
  {
   "cell_type": "code",
   "execution_count": null,
   "id": "9e62d2e6",
   "metadata": {},
   "outputs": [],
   "source": []
  },
  {
   "cell_type": "markdown",
   "id": "16d26966",
   "metadata": {},
   "source": [
    "# Conclusiones:\n",
    "\n",
    "En esta sección debe presentar sus conclusiones de su trabajo (imporante: las conclusiones deben ser obtenidas a partir de sus resultados, no confundir con *comentarios*, que son de caracter personal/pasional.\n",
    "\n",
    "Es importante que estas sean expresadas de forma clara, si necesita agregar imagenes/textos/etc. adicionales que apoyen su conclusión, recuerde referenciarlas."
   ]
  },
  {
   "cell_type": "code",
   "execution_count": null,
   "id": "d23060c5",
   "metadata": {},
   "outputs": [],
   "source": []
  }
 ],
 "metadata": {
  "kernelspec": {
   "display_name": "Python 3 (ipykernel)",
   "language": "python",
   "name": "python3"
  },
  "language_info": {
   "codemirror_mode": {
    "name": "ipython",
    "version": 3
   },
   "file_extension": ".py",
   "mimetype": "text/x-python",
   "name": "python",
   "nbconvert_exporter": "python",
   "pygments_lexer": "ipython3",
   "version": "3.11.5"
  },
  "toc": {
   "base_numbering": 1,
   "nav_menu": {},
   "number_sections": true,
   "sideBar": true,
   "skip_h1_title": false,
   "title_cell": "Table of Contents",
   "title_sidebar": "Contents",
   "toc_cell": false,
   "toc_position": {},
   "toc_section_display": true,
   "toc_window_display": false
  },
  "varInspector": {
   "cols": {
    "lenName": 16,
    "lenType": 16,
    "lenVar": 40
   },
   "kernels_config": {
    "python": {
     "delete_cmd_postfix": "",
     "delete_cmd_prefix": "del ",
     "library": "var_list.py",
     "varRefreshCmd": "print(var_dic_list())"
    },
    "r": {
     "delete_cmd_postfix": ") ",
     "delete_cmd_prefix": "rm(",
     "library": "var_list.r",
     "varRefreshCmd": "cat(var_dic_list()) "
    }
   },
   "types_to_exclude": [
    "module",
    "function",
    "builtin_function_or_method",
    "instance",
    "_Feature"
   ],
   "window_display": false
  }
 },
 "nbformat": 4,
 "nbformat_minor": 5
}
